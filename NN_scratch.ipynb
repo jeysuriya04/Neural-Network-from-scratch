{
 "cells": [
  {
   "cell_type": "markdown",
   "metadata": {},
   "source": [
    "#importing libraries"
   ]
  },
  {
   "cell_type": "markdown",
   "metadata": {},
   "source": [
    "pip install <--library name-->"
   ]
  },
  {
   "cell_type": "code",
   "execution_count": 8,
   "metadata": {},
   "outputs": [],
   "source": [
    "import numpy as np\n",
    "import matplotlib.pyplot as plt\n",
    "from sklearn.metrics import confusion_matrix\n",
    "import matplotlib.colors as clrs\n",
    "from sklearn.datasets import make_blobs\n",
    "from tqdm import tqdm_notebook\n",
    "from sklearn.metrics import mean_squared_error\n",
    "from sklearn.model_selection import train_test_split"
   ]
  },
  {
   "cell_type": "markdown",
   "metadata": {},
   "source": [
    "#Generating data"
   ]
  },
  {
   "cell_type": "code",
   "execution_count": 2,
   "metadata": {},
   "outputs": [],
   "source": [
    "data,labels=make_blobs(n_samples=1000,n_features=2,centers=2)"
   ]
  },
  {
   "cell_type": "markdown",
   "metadata": {},
   "source": [
    "#plotting of dataset\n"
   ]
  },
  {
   "cell_type": "code",
   "execution_count": 3,
   "metadata": {},
   "outputs": [
    {
     "data": {
      "image/png": "[encoded data removed]",
      "text/plain": [
       "<Figure size 432x288 with 1 Axes>"
      ]
     },
     "metadata": {
      "needs_background": "light"
     },
     "output_type": "display_data"
    }
   ],
   "source": [
    "c_map=clrs.LinearSegmentedColormap.from_list(\"\",[\"purple\",\"green\",\"blue\"])\n",
    "plt.scatter(data[:,0],data[:,1],c=labels,cmap=c_map)\n",
    "plt.show()"
   ]
  },
  {
   "cell_type": "code",
   "execution_count": 4,
   "metadata": {},
   "outputs": [],
   "source": [
    "x_train,x_test,y_train,y_test=train_test_split(data,labels,train_size=0.8)"
   ]
  },
  {
   "cell_type": "markdown",
   "metadata": {},
   "source": [
    "#neural_network"
   ]
  },
  {
   "cell_type": "code",
   "execution_count": 5,
   "metadata": {},
   "outputs": [],
   "source": [
    "class neuron():\n",
    "    def __init__(self):\n",
    "        self.w1=np.random.randn()\n",
    "        self.w2=np.random.randn()\n",
    "        self.w3=np.random.randn()\n",
    "        self.w4=np.random.randn()\n",
    "        self.w5=np.random.randn()\n",
    "        self.w6=np.random.randn()\n",
    "        self.b1=0\n",
    "        self.b2=0\n",
    "        self.b3=0\n",
    "        \n",
    "    def sigmoid(self,x):\n",
    "        return 1.0/(1+np.exp(-x))\n",
    "    \n",
    "    def forwardpass(self,x):\n",
    "        self.x1,self.x2=x\n",
    "        self.a1=self.x1*self.w1+self.x2*self.w3+self.b1\n",
    "        self.h1=self.sigmoid(self.a1)\n",
    "        self.a2=self.x1*self.w2+self.x2*self.w4+self.b2\n",
    "        self.h2=self.sigmoid(self.a2)\n",
    "        self.a3=self.h1*self.w5+self.h2*self.w6+self.b3\n",
    "        self.h3=self.sigmoid(self.a3)\n",
    "        return self.h3\n",
    "    \n",
    "    def grad(self,x,y):\n",
    "        self.forwardpass(x)\n",
    "        self.dw1=(self.h3-y)*(self.h3)*(1-self.h3)*self.w5*self.h1*(1-self.h1)*self.x1\n",
    "        self.dw2=(self.h3-y)*(self.h3)*(1-self.h3)*self.w6*self.h2*(1-self.h2)*self.x1\n",
    "        self.dw3=(self.h3-y)*(self.h3)*(1-self.h3)*self.w5*self.h1*(1-self.h1)*self.x2\n",
    "        self.dw4=(self.h3-y)*(self.h3)*(1-self.h3)*self.w6*(1-self.h2)*self.h2*self.x2\n",
    "        self.dw5=(self.h3-y)*(self.h3)*(1-self.h3)*self.h1\n",
    "        self.dw6=(self.h3-y)*(self.h3)*(1-self.h3)*self.h2\n",
    "        self.db1=(self.h3-y)*(self.h3)*(1-self.h3)*self.w5*self.h1*(1-self.h1)\n",
    "        self.db2=(self.h3-y)*(self.h3)*(1-self.h3)*self.w6*self.h2*(1-self.h2)\n",
    "        self.db3=(self.h3-y)*(self.h3)*(1-self.h3)\n",
    "        \n",
    "    def fit(self,X,Y,lrn=0.01,epochs=1000,display_loss=True,initialise=True):\n",
    "        if initialise:\n",
    "                self.w1=np.random.randn()\n",
    "                self.w2=np.random.randn()\n",
    "                self.w3=np.random.randn()\n",
    "                self.w4=np.random.randn()\n",
    "                self.w5=np.random.randn()\n",
    "                self.w6=np.random.randn()\n",
    "                self.b1=0\n",
    "                self.b2=0\n",
    "                self.b3=0\n",
    "        if display_loss:\n",
    "               losses={}\n",
    "                \n",
    "        for i in tqdm_notebook(range(epochs),total=epochs,unit=\"epoch\"):\n",
    "                dw1,dw2,dw3,dw4,dw5,dw6,db1,db2,db3=[0]*9\n",
    "                for x,y in zip(X,Y):\n",
    "                    self.grad(x,y)\n",
    "                    dw1+=self.dw1\n",
    "                    dw2+=self.dw2\n",
    "                    dw3+=self.dw3\n",
    "                    dw4+=self.dw4\n",
    "                    dw5+=self.dw5\n",
    "                    dw6+=self.dw6\n",
    "                    db1+=self.db1\n",
    "                    db2+=self.db2\n",
    "                    db3+=self.db3\n",
    "                m=X.shape[1]\n",
    "                self.w1-=lrn*dw1/m\n",
    "                self.w2-=lrn*dw2/m\n",
    "                self.w3-=lrn*dw3/m\n",
    "                self.w4-=lrn*dw4/m\n",
    "                self.w5-=lrn*dw5/m\n",
    "                self.w6-=lrn*dw6/m\n",
    "                self.b1-=lrn*db1/m\n",
    "                self.b2-=lrn*db2/m\n",
    "                self.b3-=lrn*db3/m\n",
    "                \n",
    "                if display_loss:\n",
    "                    y_pred=self.predict(X)\n",
    "                    loss=mean_squared_error(Y,y_pred)\n",
    "                    losses[i]=loss\n",
    "        if display_loss:\n",
    "                lists=losses.items()\n",
    "                x,y=zip(*lists)\n",
    "                plt.plot(x,y,color=\"red\")\n",
    "                plt.show()\n",
    "                \n",
    "    def predict(self,X):\n",
    "        y_pred=[]\n",
    "        for x in X:\n",
    "                pred=self.forwardpass(x)\n",
    "                y_pred.append(pred)\n",
    "        return np.array(y_pred)\n",
    "                "
   ]
  },
  {
   "cell_type": "code",
   "execution_count": 6,
   "metadata": {},
   "outputs": [],
   "source": [
    "sn=neuron()"
   ]
  },
  {
   "cell_type": "markdown",
   "metadata": {},
   "source": [
    "#training the neural network on train_data"
   ]
  },
  {
   "cell_type": "code",
   "execution_count": 7,
   "metadata": {},
   "outputs": [
    {
     "name": "stderr",
     "output_type": "stream",
     "text": [
      "C:\\Users\\Annamalai\\Anaconda3\\lib\\site-packages\\ipykernel_launcher.py:52: TqdmDeprecationWarning: This function will be removed in tqdm==5.0.0\n",
      "Please use `tqdm.notebook.tqdm` instead of `tqdm.tqdm_notebook`\n"
     ]
    },
    {
     "data": {
      "application/vnd.jupyter.widget-view+json": {
       "model_id": "288d2403d5b54f9991c5869ed82325c7",
       "version_major": 2,
       "version_minor": 0
      },
      "text/plain": [
       "HBox(children=(FloatProgress(value=0.0, max=2000.0), HTML(value='')))"
      ]
     },
     "metadata": {},
     "output_type": "display_data"
    },
    {
     "name": "stdout",
     "output_type": "stream",
     "text": [
      "\n"
     ]
    },
    {
     "data": {
      "image/png": "[encoded data removed]",
      "text/plain": [
       "<Figure size 432x288 with 1 Axes>"
      ]
     },
     "metadata": {
      "needs_background": "light"
     },
     "output_type": "display_data"
    }
   ],
   "source": [
    "sn.fit(x_train,y_train,epochs=2000,lrn=0.001)"
   ]
  },
  {
   "cell_type": "markdown",
   "metadata": {},
   "source": [
    "#predicting on test_data"
   ]
  },
  {
   "cell_type": "code",
   "execution_count": 109,
   "metadata": {},
   "outputs": [],
   "source": [
    "ans=sn.predict(x_test)"
   ]
  },
  {
   "cell_type": "code",
   "execution_count": 110,
   "metadata": {},
   "outputs": [],
   "source": [
    "ans=ans>0.5"
   ]
  },
  {
   "cell_type": "code",
   "execution_count": 111,
   "metadata": {},
   "outputs": [],
   "source": [
    "ans2=ans.astype(\"int\")"
   ]
  },
  {
   "cell_type": "code",
   "execution_count": 112,
   "metadata": {},
   "outputs": [
    {
     "data": {
      "text/plain": [
       "(array([ True, False, False, False, False, False,  True,  True,  True,\n",
       "        False, False,  True, False, False,  True,  True,  True,  True,\n",
       "         True,  True, False,  True, False,  True,  True,  True, False,\n",
       "        False,  True,  True,  True,  True,  True, False,  True, False,\n",
       "         True, False, False, False,  True, False,  True,  True,  True,\n",
       "        False, False,  True,  True, False,  True,  True, False,  True,\n",
       "         True, False, False, False,  True, False,  True,  True, False,\n",
       "         True,  True, False,  True, False,  True, False, False, False,\n",
       "        False, False, False, False,  True,  True, False,  True,  True,\n",
       "        False, False, False,  True,  True, False,  True, False,  True,\n",
       "        False, False,  True, False,  True, False, False, False, False,\n",
       "        False,  True, False, False, False,  True,  True,  True, False,\n",
       "         True,  True,  True,  True,  True, False,  True,  True,  True,\n",
       "         True, False,  True,  True,  True, False, False,  True, False,\n",
       "         True, False,  True, False,  True, False, False, False, False,\n",
       "        False, False, False, False, False, False, False,  True,  True,\n",
       "        False, False,  True, False,  True, False, False, False, False,\n",
       "        False,  True, False, False,  True, False,  True,  True, False,\n",
       "         True,  True, False, False, False,  True,  True, False,  True,\n",
       "        False, False, False,  True, False, False,  True, False,  True,\n",
       "         True, False, False, False,  True,  True, False,  True, False,\n",
       "         True, False,  True, False, False,  True, False,  True, False,\n",
       "         True,  True]),\n",
       " array([1, 0, 0, 0, 0, 0, 1, 1, 1, 0, 0, 1, 0, 0, 1, 1, 1, 1, 1, 1, 0, 1,\n",
       "        0, 1, 1, 1, 0, 0, 1, 1, 1, 1, 1, 0, 1, 0, 1, 0, 0, 0, 1, 0, 1, 1,\n",
       "        1, 0, 0, 1, 1, 0, 1, 1, 0, 1, 1, 0, 0, 0, 1, 0, 1, 1, 0, 1, 1, 0,\n",
       "        1, 0, 1, 0, 0, 0, 0, 0, 0, 0, 1, 1, 0, 1, 1, 0, 0, 0, 1, 1, 0, 1,\n",
       "        0, 1, 0, 0, 1, 0, 1, 0, 0, 0, 0, 0, 1, 0, 0, 0, 1, 1, 1, 0, 1, 1,\n",
       "        1, 1, 1, 0, 1, 1, 1, 1, 0, 1, 1, 1, 0, 0, 1, 0, 1, 0, 1, 0, 1, 0,\n",
       "        0, 0, 0, 0, 0, 0, 0, 0, 0, 0, 1, 1, 0, 0, 1, 0, 1, 0, 0, 0, 0, 0,\n",
       "        1, 0, 0, 1, 0, 1, 1, 0, 1, 1, 0, 0, 0, 1, 1, 0, 1, 0, 0, 0, 1, 0,\n",
       "        0, 1, 0, 1, 1, 0, 0, 0, 1, 1, 0, 1, 0, 1, 0, 1, 0, 0, 1, 0, 1, 0,\n",
       "        1, 1]))"
      ]
     },
     "execution_count": 112,
     "metadata": {},
     "output_type": "execute_result"
    }
   ],
   "source": [
    "ans,ans2"
   ]
  },
  {
   "cell_type": "markdown",
   "metadata": {},
   "source": [
    "#validation"
   ]
  },
  {
   "cell_type": "code",
   "execution_count": 106,
   "metadata": {},
   "outputs": [
    {
     "data": {
      "text/plain": [
       "array([[105,   0],\n",
       "       [  0,  95]], dtype=int64)"
      ]
     },
     "execution_count": 106,
     "metadata": {},
     "output_type": "execute_result"
    }
   ],
   "source": [
    "confusion_matrix(ans,y_test)"
   ]
  },
  {
   "cell_type": "code",
   "execution_count": null,
   "metadata": {},
   "outputs": [],
   "source": []
  },
  {
   "cell_type": "code",
   "execution_count": 84,
   "metadata": {},
   "outputs": [],
   "source": []
  },
  {
   "cell_type": "code",
   "execution_count": 85,
   "metadata": {},
   "outputs": [],
   "source": []
  },
  {
   "cell_type": "code",
   "execution_count": null,
   "metadata": {},
   "outputs": [],
   "source": []
  },
  {
   "cell_type": "code",
   "execution_count": 87,
   "metadata": {},
   "outputs": [],
   "source": []
  },
  {
   "cell_type": "code",
   "execution_count": null,
   "metadata": {},
   "outputs": [],
   "source": []
  },
  {
   "cell_type": "code",
   "execution_count": null,
   "metadata": {},
   "outputs": [],
   "source": []
  },
  {
   "cell_type": "code",
   "execution_count": null,
   "metadata": {},
   "outputs": [],
   "source": []
  }
 ],
 "metadata": {
  "kernelspec": {
   "display_name": "Python 3",
   "language": "python",
   "name": "python3"
  },
  "language_info": {
   "codemirror_mode": {
    "name": "ipython",
    "version": 3
   },
   "file_extension": ".py",
   "mimetype": "text/x-python",
   "name": "python",
   "nbconvert_exporter": "python",
   "pygments_lexer": "ipython3",
   "version": "3.7.4"
  }
 },
 "nbformat": 4,
 "nbformat_minor": 2
}
